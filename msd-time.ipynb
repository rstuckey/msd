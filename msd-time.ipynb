{
 "cells": [
  {
   "cell_type": "markdown",
   "metadata": {},
   "source": [
    "Mass-Spring-Damper Model Estimation\n",
    "-----------------------------------"
   ]
  },
  {
   "cell_type": "markdown",
   "metadata": {},
   "source": [
    "\n",
    "### Timing Assessment"
   ]
  },
  {
   "cell_type": "markdown",
   "metadata": {},
   "source": [
    "Comparison of simulation models."
   ]
  },
  {
   "cell_type": "code",
   "execution_count": 1,
   "metadata": {},
   "outputs": [],
   "source": [
    "%reset -f"
   ]
  },
  {
   "cell_type": "code",
   "execution_count": 2,
   "metadata": {},
   "outputs": [],
   "source": [
    "import numpy as np\n",
    "import numpy.matlib as ml\n",
    "from scipy import interpolate, integrate\n",
    "import time\n",
    "import timeit"
   ]
  },
  {
   "cell_type": "markdown",
   "metadata": {},
   "source": [
    "Create the models."
   ]
  },
  {
   "cell_type": "code",
   "execution_count": 3,
   "metadata": {},
   "outputs": [],
   "source": [
    "from msd import MSD\n",
    "from msd.msdc import MSD_CYTHON\n",
    "from msd.msdu import MSD_PYUBLAS\n",
    "from msd.msdn import MSD_NUMBA, msd_integrate\n",
    "from msd.msdb import MSD_BOOST"
   ]
  },
  {
   "cell_type": "code",
   "execution_count": null,
   "metadata": {},
   "outputs": [],
   "source": [
    "# Simulation model\n",
    "# MODELS = ['python', 'cython', 'pyublas', 'numba', 'boost']\n",
    "MODELS = ['cython', 'pyublas', 'boost']\n",
    "# MODELS = ['boost']\n",
    "\n",
    "# Zero the RNG seed\n",
    "np.random.seed(1)\n",
    "\n",
    "# Initial system state and external force input\n",
    "x0 = np.zeros((2, ))\n",
    "d0 = 0.0\n",
    "\n",
    "# Sample period\n",
    "dt = 0.01\n",
    "\n",
    "# Start and end time\n",
    "t0 = 0.0\n",
    "tN = 15.0\n",
    "\n",
    "# Create the time vector\n",
    "T = np.arange(t0, tN, dt)\n",
    "N = T.shape[0]\n",
    "\n",
    "# Create the predefined external force vector\n",
    "T_S0 = np.hstack((t0, np.arange(t0 + 1.0, tN + 1.0, 1.0), tN))\n",
    "D_S0 = np.hstack((d0, np.array([ d0 + ((_ % 2)*2 - 1) * 1.0 for _ in range(T_S0.shape[0] - 2) ]), d0))\n",
    "interpfun = interpolate.interp1d(T_S0, D_S0, kind='zero', axis=0, bounds_error=False)\n",
    "D0 = np.array([ [ interpfun(t) ] for t in T ])\n",
    "T_S = T_S0.copy()\n",
    "D_S = D_S0.copy()\n",
    "D = D0.copy()"
   ]
  },
  {
   "cell_type": "code",
   "execution_count": null,
   "metadata": {},
   "outputs": [
    {
     "name": "stdout",
     "output_type": "stream",
     "text": [
      "Model: cython  Time: 1.528604\n",
      "Model: pyublas  Time: 0.116114\n"
     ]
    }
   ],
   "source": [
    "M = 100\n",
    "\n",
    "# Zero the RNG seed\n",
    "np.random.seed(1)\n",
    "\n",
    "for model in MODELS:\n",
    "    # Zero the RNG seed\n",
    "    np.random.seed(1)\n",
    "\n",
    "    # Create the simulation model\n",
    "    if (model == 'python'):\n",
    "        # Pure Python\n",
    "        msd = MSD(\"Mass-Spring-Damper (Python)\")\n",
    "        msd.set_external_forces(T_S, D_S, 'zero')\n",
    "    elif (model == 'cython'):\n",
    "        # Cython\n",
    "        msd = MSD_CYTHON(\"Mass-Spring-Damper (Cython)\")\n",
    "        msd.set_external_forces(T_S, D_S, 'zero')\n",
    "    elif (model == 'pyublas'):\n",
    "        # PyUblas extension\n",
    "        msd = MSD_PYUBLAS(\"Mass-Spring-Damper (PyUblas)\", N)\n",
    "        msd.set_external_forces(T_S, D_S, 'zero')\n",
    "    elif (model == 'numba'):\n",
    "        # Numba JIT\n",
    "        msd = MSD_NUMBA()\n",
    "        msd.set_external_forces(T_S, D_S, 0)\n",
    "    elif (model == 'boost'):\n",
    "        # Boost extension\n",
    "        msd = MSD_BOOST(\"Mass-Spring-Damper (Boost)\", N)\n",
    "        msd.set_external_forces(T_S, D_S, 'zero')\n",
    "\n",
    "    time_start = timeit.default_timer()\n",
    "    # Compute the response\n",
    "    for m in range(M):\n",
    "        if (model in ['python', 'cython', 'pyublas', 'boost']):\n",
    "            X, Xdot, F = msd.integrate(x0, T)\n",
    "        elif (model == 'numba'):\n",
    "            X, Xdot, F = msd_integrate(msd, x0, T)\n",
    "    time_stop = timeit.default_timer()\n",
    "\n",
    "    print(\"Model: {:s}  Time: {:f}\".format(model, time_stop - time_start))\n",
    "\n",
    "    time.sleep(1.0)"
   ]
  },
  {
   "cell_type": "code",
   "execution_count": null,
   "metadata": {},
   "outputs": [],
   "source": []
  }
 ],
 "metadata": {
  "kernelspec": {
   "display_name": "Python 3",
   "language": "python",
   "name": "python3"
  },
  "language_info": {
   "codemirror_mode": {
    "name": "ipython",
    "version": 3
   },
   "file_extension": ".py",
   "mimetype": "text/x-python",
   "name": "python",
   "nbconvert_exporter": "python",
   "pygments_lexer": "ipython3",
   "version": "3.6.2"
  }
 },
 "nbformat": 4,
 "nbformat_minor": 1
}
